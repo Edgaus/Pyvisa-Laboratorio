{
 "cells": [
  {
   "attachments": {},
   "cell_type": "markdown",
   "metadata": {},
   "source": [
    "Aqui se encuentra el codigo para el control de dispositivos"
   ]
  },
  {
   "attachments": {},
   "cell_type": "markdown",
   "metadata": {},
   "source": [
    "Lista de librerias\n",
    "pip install pyvisa\n",
    "pip install pyvisa-py\n",
    "pip install resource"
   ]
  },
  {
   "cell_type": "code",
   "execution_count": 9,
   "metadata": {},
   "outputs": [
    {
     "name": "stdout",
     "output_type": "stream",
     "text": [
      "No devices detected\n"
     ]
    }
   ],
   "source": [
    "import pyvisa\n",
    "\n",
    "#Lectura de dispositivos conectados a la computadora\n",
    "\n",
    "rm = pyvisa.ResourceManager()\n",
    "Dispositivos = []\n",
    "resource = rm.list_resources()\n",
    "\n",
    "#Loop para obtener los nombres de los  dispositivos conectados mediante USB\n",
    "\n",
    "\n",
    "if resource !=():\n",
    "    for dispositvo in resource:\n",
    "        if dispositvo[:3] == 'ASRL':\n",
    "            Dispositivos.append(dispositvo)\n",
    "            print(  rm.open_resource(dispositvo).query(\"*IDN?\")  )\n",
    "else:\n",
    "    print('No devices detected')\n",
    "\n",
    "\n",
    "\n",
    "b"
   ]
  },
  {
   "attachments": {},
   "cell_type": "markdown",
   "metadata": {},
   "source": [
    "Declaracion de dispositivos"
   ]
  },
  {
   "cell_type": "code",
   "execution_count": null,
   "metadata": {},
   "outputs": [],
   "source": [
    "osciloscop = rm.open_resource( Dispositivos[0] )"
   ]
  },
  {
   "cell_type": "code",
   "execution_count": null,
   "metadata": {},
   "outputs": [],
   "source": [
    "osciloscop.write('MEASUREMENT:MEAS1:TYPE PERIOD;UNITS \"S\";SOURCE CH1;')"
   ]
  }
 ],
 "metadata": {
  "kernelspec": {
   "display_name": "Python 3",
   "language": "python",
   "name": "python3"
  },
  "language_info": {
   "codemirror_mode": {
    "name": "ipython",
    "version": 3
   },
   "file_extension": ".py",
   "mimetype": "text/x-python",
   "name": "python",
   "nbconvert_exporter": "python",
   "pygments_lexer": "ipython3",
   "version": "3.9.13"
  },
  "orig_nbformat": 4,
  "vscode": {
   "interpreter": {
    "hash": "b57df26b007419e9226b0680b0fedaa057aa5de0edc0629c9ca0b5db7b90c6a0"
   }
  }
 },
 "nbformat": 4,
 "nbformat_minor": 2
}
